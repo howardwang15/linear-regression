{
 "cells": [
  {
   "cell_type": "code",
   "execution_count": 153,
   "metadata": {
    "collapsed": false
   },
   "outputs": [],
   "source": [
    "from sklearn.datasets import load_boston\n",
    "from sklearn.linear_model import LinearRegression\n",
    "from sklearn.metrics import mean_squared_error, r2_score\n",
    "from sklearn.model_selection import train_test_split\n",
    "from sklearn.preprocessing import normalize\n",
    "from matplotlib import pyplot as plt\n",
    "import numpy as np\n",
    "%matplotlib inline"
   ]
  },
  {
   "cell_type": "code",
   "execution_count": 154,
   "metadata": {
    "collapsed": false
   },
   "outputs": [
    {
     "name": "stdout",
     "output_type": "stream",
     "text": [
      "error: 11.672263723362772\n",
      "r^2 score: 0.8130470089889824\n",
      "actual: [23.6], predicted: [28.14617363]\n",
      "actual: [32.4], predicted: [36.22390834]\n",
      "actual: [13.6], predicted: [16.31570091]\n",
      "actual: [22.8], predicted: [24.64017446]\n",
      "actual: [16.1], predicted: [19.29382301]\n",
      "actual: [20.], predicted: [22.83314406]\n",
      "actual: [17.8], predicted: [17.31438104]\n",
      "actual: [14.], predicted: [15.29453088]\n",
      "actual: [19.6], predicted: [21.69785088]\n",
      "actual: [16.8], predicted: [20.17346323]\n",
      "actual: [21.5], predicted: [23.94421792]\n",
      "actual: [18.9], predicted: [18.77213337]\n",
      "actual: [7.], predicted: [-3.21677976]\n",
      "actual: [21.2], predicted: [21.58953096]\n",
      "actual: [18.5], predicted: [18.77305609]\n",
      "actual: [29.8], predicted: [24.32745055]\n",
      "actual: [18.8], predicted: [19.81149567]\n",
      "actual: [10.2], predicted: [9.29614677]\n",
      "actual: [50.], predicted: [41.74726162]\n",
      "actual: [14.1], predicted: [18.25644445]\n",
      "actual: [25.2], predicted: [27.01226486]\n",
      "actual: [29.1], predicted: [29.76694111]\n",
      "actual: [12.7], predicted: [11.03256145]\n",
      "actual: [22.4], predicted: [24.46553988]\n",
      "actual: [14.2], predicted: [18.32464604]\n",
      "actual: [13.8], predicted: [16.33042944]\n",
      "actual: [20.3], predicted: [21.88770842]\n",
      "actual: [14.9], predicted: [15.39498706]\n",
      "actual: [21.7], predicted: [21.77896474]\n",
      "actual: [18.3], predicted: [18.78211407]\n",
      "actual: [23.1], predicted: [20.71212511]\n",
      "actual: [23.8], predicted: [25.41525901]\n",
      "actual: [15.], predicted: [23.49198376]\n",
      "actual: [20.8], predicted: [18.17114659]\n",
      "actual: [19.1], predicted: [17.5122627]\n",
      "actual: [19.4], predicted: [17.12692342]\n",
      "actual: [34.7], predicted: [32.68076811]\n",
      "actual: [19.5], predicted: [19.82283084]\n",
      "actual: [24.4], predicted: [23.50583826]\n",
      "actual: [23.4], predicted: [24.61440348]\n",
      "actual: [19.7], predicted: [13.71347785]\n",
      "actual: [28.2], predicted: [32.70174398]\n",
      "actual: [50.], predicted: [44.69153627]\n",
      "actual: [17.4], predicted: [16.93084197]\n",
      "actual: [22.6], predicted: [26.77717338]\n",
      "actual: [15.1], predicted: [17.55601254]\n",
      "actual: [13.1], predicted: [13.68598257]\n",
      "actual: [24.2], predicted: [25.9971728]\n",
      "actual: [19.9], predicted: [19.99264711]\n",
      "actual: [24.], predicted: [29.48455381]\n",
      "actual: [18.9], predicted: [21.18466487]\n"
     ]
    }
   ],
   "source": [
    "def preprocess(boston):\n",
    "    data = boston.data\n",
    "    data = normalize(data)\n",
    "    target = boston.target\n",
    "    target = target.reshape((target.shape[0], 1))\n",
    "    x_train, x_test, y_train, y_test = train_test_split(data, target, test_size=0.1, random_state=42)\n",
    "    return x_train, x_test, y_train, y_test\n",
    "    \n",
    "if __name__ == '__main__':\n",
    "    boston = load_boston()\n",
    "    training_X, testing_X, training_Y, testing_Y = preprocess(boston)\n",
    "    regr = LinearRegression()\n",
    "    regr.fit(training_X, training_Y)\n",
    "    predict_Y = regr.predict(testing_X)\n",
    "    print('error: {}'.format(mean_squared_error(testing_Y, predict_Y)))\n",
    "    print('r^2 score: {}'.format(r2_score(testing_Y, predict_Y)))\n",
    "    for i in range(testing_Y.shape[0]):\n",
    "        print('actual: {0}, predicted: {1}'.format(testing_Y[i], predict_Y[i]))"
   ]
  },
  {
   "cell_type": "raw",
   "metadata": {},
   "source": []
  }
 ],
 "metadata": {
  "kernelspec": {
   "display_name": "Python 3",
   "language": "python",
   "name": "python3"
  },
  "language_info": {
   "codemirror_mode": {
    "name": "ipython",
    "version": 3
   },
   "file_extension": ".py",
   "mimetype": "text/x-python",
   "name": "python",
   "nbconvert_exporter": "python",
   "pygments_lexer": "ipython3",
   "version": "3.6.0"
  }
 },
 "nbformat": 4,
 "nbformat_minor": 2
}
