{
 "cells": [
  {
   "cell_type": "code",
   "execution_count": 1,
   "metadata": {
    "collapsed": true
   },
   "outputs": [],
   "source": [
    "import tensorflow as tf\n",
    "import numpy as np\n",
    "from matplotlib import pyplot as plt\n",
    "from sklearn.datasets import load_boston\n",
    "from sklearn.model_selection import train_test_split\n",
    "from sklearn.preprocessing import normalize\n",
    "%matplotlib inline\n",
    "\n",
    "n_testing_samples = 20\n",
    "n_epochs = 5000"
   ]
  },
  {
   "cell_type": "code",
   "execution_count": 2,
   "metadata": {
    "collapsed": true
   },
   "outputs": [],
   "source": [
    "def load_data():\n",
    "    data, targets = load_boston(True)\n",
    "    data = normalize(data)\n",
    "    targets = targets.reshape((targets.shape[0], 1))\n",
    "    x_train, x_test, y_train, y_test = train_test_split(data, targets, test_size=0.3, random_state=42)\n",
    "    return x_train, x_test, y_train, y_test"
   ]
  },
  {
   "cell_type": "code",
   "execution_count": 3,
   "metadata": {
    "collapsed": false
   },
   "outputs": [
    {
     "name": "stdout",
     "output_type": "stream",
     "text": [
      "current loss: 428.01470947265625\n",
      "current loss: 69.78788757324219\n",
      "current loss: 68.29356384277344\n",
      "current loss: 67.79733276367188\n",
      "current loss: 67.41776275634766\n",
      "current loss: 67.07434844970703\n",
      "current loss: 66.75714111328125\n",
      "current loss: 66.46269989013672\n",
      "current loss: 66.18846130371094\n",
      "current loss: 65.93218994140625\n",
      "current loss: 65.69194030761719\n",
      "current loss: 65.46597290039062\n",
      "current loss: 65.25273895263672\n",
      "current loss: 65.05088806152344\n",
      "current loss: 64.85922241210938\n",
      "current loss: 64.67666625976562\n",
      "current loss: 64.50230407714844\n",
      "current loss: 64.33527374267578\n",
      "current loss: 64.17485809326172\n",
      "current loss: 64.02037811279297\n",
      "current loss: 63.87125778198242\n",
      "current loss: 63.72700500488281\n",
      "current loss: 63.58713912963867\n",
      "current loss: 63.45124816894531\n",
      "current loss: 63.31898880004883\n",
      "current loss: 63.190025329589844\n",
      "current loss: 63.06406784057617\n",
      "current loss: 62.94088363647461\n",
      "current loss: 62.820213317871094\n",
      "current loss: 62.701873779296875\n",
      "current loss: 62.58567810058594\n",
      "current loss: 62.471466064453125\n",
      "current loss: 62.35908126831055\n",
      "current loss: 62.248416900634766\n",
      "current loss: 62.13932800292969\n",
      "current loss: 62.03172302246094\n",
      "current loss: 61.92551803588867\n",
      "current loss: 61.82059860229492\n",
      "current loss: 61.7169189453125\n",
      "current loss: 61.614383697509766\n",
      "current loss: 61.51295471191406\n",
      "current loss: 61.412567138671875\n",
      "current loss: 61.31315612792969\n",
      "current loss: 61.214683532714844\n",
      "current loss: 61.117103576660156\n",
      "current loss: 61.02039337158203\n",
      "current loss: 60.92449188232422\n",
      "current loss: 60.829376220703125\n",
      "current loss: 60.73502731323242\n",
      "current loss: 60.641395568847656\n"
     ]
    }
   ],
   "source": [
    "if __name__ == '__main__':\n",
    "    x_train, x_test, y_train, y_test = load_data()\n",
    "    features = tf.placeholder(tf.float32, shape=[None, 13])\n",
    "    targets = tf.placeholder(tf.float32, shape=[None, 1])\n",
    "    weights = tf.Variable(tf.constant(0.1, shape=[13, 1]))\n",
    "    bias = tf.constant(0.1)\n",
    "    predicted = tf.matmul(features, weights) + bias\n",
    "    loss = tf.reduce_mean(tf.square(predicted - targets))\n",
    "    optimizer = tf.train.GradientDescentOptimizer(learning_rate=0.1).minimize(loss)\n",
    "    init = tf.global_variables_initializer()\n",
    "    sess = tf.InteractiveSession()\n",
    "    sess.run(init)\n",
    "    for epoch in range(n_epochs): # training\n",
    "        sess.run(optimizer, feed_dict={features: x_train, targets: y_train})\n",
    "        accuracy = loss.eval(feed_dict={features: x_train, targets: y_train})\n",
    "        if epoch % 100 == 0:\n",
    "            print('current loss: {}'.format(accuracy))\n",
    "\n",
    "    testing_predictions = sess.run(predicted, feed_dict={features: x_test})\n",
    "    testing_predictions = testing_predictions.flatten()\n",
    "    y_test = y_test.reshape(152)\n"
   ]
  },
  {
   "cell_type": "code",
   "execution_count": 4,
   "metadata": {
    "collapsed": false
   },
   "outputs": [
    {
     "name": "stdout",
     "output_type": "stream",
     "text": [
      "prediction: 25.676889419555664, actual: 24.6\n",
      "prediction: 30.044570922851562, actual: 20.9\n",
      "prediction: 25.904752731323242, actual: 21.1\n",
      "prediction: 31.677492141723633, actual: 28.5\n",
      "prediction: 19.485401153564453, actual: 16.1\n",
      "prediction: 11.943418502807617, actual: 15.6\n",
      "prediction: 24.908405303955078, actual: 18.5\n",
      "prediction: 19.08884048461914, actual: 9.7\n",
      "prediction: 25.739789962768555, actual: 36.2\n",
      "prediction: 22.926729202270508, actual: 19.2\n",
      "prediction: 24.295194625854492, actual: 24.4\n",
      "prediction: 22.13338851928711, actual: 17.1\n",
      "prediction: 22.3177433013916, actual: 18.7\n",
      "prediction: 19.314207077026367, actual: 10.9\n",
      "prediction: 28.914396286010742, actual: 22.5\n",
      "prediction: 22.358156204223633, actual: 19.6\n",
      "prediction: 26.590559005737305, actual: 24.4\n",
      "prediction: 24.44182014465332, actual: 18.9\n",
      "prediction: 23.490493774414062, actual: 21.4\n",
      "prediction: 22.358156204223633, actual: 19.6\n"
     ]
    },
    {
     "data": {
      "image/png": "[encoded data removed]",
      "text/plain": [
       "<matplotlib.figure.Figure at 0x21927447668>"
      ]
     },
     "metadata": {},
     "output_type": "display_data"
    }
   ],
   "source": [
    "    for sample in range(n_testing_samples): # testing\n",
    "        rand = np.random.randint(0, 152)\n",
    "        prediction = testing_predictions[rand]\n",
    "        actual = y_test[rand]\n",
    "        print('prediction: {}, actual: {}'.format(prediction, actual))\n",
    "        plt.plot([actual], [prediction], 'ro')\n",
    "        "
   ]
  }
 ],
 "metadata": {
  "kernelspec": {
   "display_name": "Python 3",
   "language": "python",
   "name": "python3"
  },
  "language_info": {
   "codemirror_mode": {
    "name": "ipython",
    "version": 3
   },
   "file_extension": ".py",
   "mimetype": "text/x-python",
   "name": "python",
   "nbconvert_exporter": "python",
   "pygments_lexer": "ipython3",
   "version": "3.6.0"
  }
 },
 "nbformat": 4,
 "nbformat_minor": 2
}
